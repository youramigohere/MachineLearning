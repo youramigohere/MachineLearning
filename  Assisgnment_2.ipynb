{
 "cells": [
  {
   "cell_type": "markdown",
   "metadata": {},
   "source": [
    "<h3 align=\"center\"> Assignment #2 </h3>"
   ]
  },
  {
   "cell_type": "markdown",
   "metadata": {},
   "source": [
    "#### 1. Write a program which accepts a sequence of comma-separated numbers from console and generate a list. \n"
   ]
  },
  {
   "cell_type": "code",
   "execution_count": 1,
   "metadata": {},
   "outputs": [
    {
     "name": "stdout",
     "output_type": "stream",
     "text": [
      "Please enter the list of numbers delimited by comma, Hit ENTER/Return key to quit\n",
      "1,2,3\n",
      "['1', '2', '3']\n"
     ]
    }
   ],
   "source": [
    "print( 'Please enter the list of numbers delimited by comma, Hit ENTER/Return key to quit')\n",
    "stringText = input()\n",
    "stringList = stringText.split(',')\n",
    "print(stringList)"
   ]
  },
  {
   "cell_type": "markdown",
   "metadata": {},
   "source": [
    "#### 2. Create the below pattern using nested for loop in Python\n",
    "\n",
    "<style> ul { list-style-type: none;}</style>\n",
    "\n",
    "\n",
    "<ul>\n",
    "    <li>*</li>\n",
    "    <li>**</li>\n",
    "    <li>***</li>\n",
    "    <li>****</li>\n",
    "    <li>*****</li>\n",
    "    <li>****</li>\n",
    "    <li>***</li>\n",
    "    <li>**</li>\n",
    "    <li>*</li>\n",
    "    </ul>\n",
    "    "
   ]
  },
  {
   "cell_type": "code",
   "execution_count": 2,
   "metadata": {},
   "outputs": [
    {
     "name": "stdout",
     "output_type": "stream",
     "text": [
      "\n",
      "*\n",
      "**\n",
      "***\n",
      "****\n",
      "*****\n",
      "****\n",
      "***\n",
      "**\n",
      "*\n"
     ]
    }
   ],
   "source": [
    "\n",
    "for i in range(0,5):\n",
    "    for k in range(i):\n",
    "        print('*',end='')\n",
    "    print()\n",
    "for i in range(5,0,-1):\n",
    "    for k in range(i):\n",
    "        print('*',end='')\n",
    "    print()"
   ]
  },
  {
   "cell_type": "markdown",
   "metadata": {},
   "source": [
    "#### 3.2. Write a Python program to reverse a word after accepting the input from the user.\n",
    "<b>Sample</b>\n",
    "Input word: ineuron\n",
    "Output: norueni"
   ]
  },
  {
   "cell_type": "code",
   "execution_count": 10,
   "metadata": {},
   "outputs": [
    {
     "name": "stdout",
     "output_type": "stream",
     "text": [
      "please enter a word\n",
      "machine\n",
      "\n",
      "reversed word is ==> enihcam\n",
      "\n",
      "reversed word is ==> enihcam\n"
     ]
    }
   ],
   "source": [
    "print('please enter a word')\n",
    "original = input();\n",
    "print()\n",
    "print('reversed word is ==> ',*reversed(original),sep='')\n",
    "\n",
    "print()\n",
    "#alternative\n",
    "print('reversed word is ==> ',original[::-1],sep='')\n"
   ]
  },
  {
   "cell_type": "code",
   "execution_count": null,
   "metadata": {},
   "outputs": [],
   "source": []
  }
 ],
 "metadata": {
  "kernelspec": {
   "display_name": "Python 3",
   "language": "python",
   "name": "python3"
  },
  "language_info": {
   "codemirror_mode": {
    "name": "ipython",
    "version": 3
   },
   "file_extension": ".py",
   "mimetype": "text/x-python",
   "name": "python",
   "nbconvert_exporter": "python",
   "pygments_lexer": "ipython3",
   "version": "3.7.6"
  }
 },
 "nbformat": 4,
 "nbformat_minor": 4
}
